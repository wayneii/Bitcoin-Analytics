{
 "cells": [
  {
   "cell_type": "markdown",
   "id": "ed3dc7c5",
   "metadata": {},
   "source": [
    "# Bitcoin Optimization Model\n",
    "This script needs to be iterated on to account for different parameters from different hardware. The goal is to be able to grab a miner that will crack a profit at the lowest cost possible. "
   ]
  },
  {
   "cell_type": "code",
   "execution_count": 11,
   "id": "21c07ffa",
   "metadata": {},
   "outputs": [],
   "source": [
    "# Function for Bitcoin Mining Profit\n",
    "from scipy.optimize import minimize\n",
    "\n",
    "def bitcoin_mining_profit(params, *args):\n",
    "    hashrate, energy_consumption = params\n",
    "    mining_reward, bitcoin_price, energy_cost, pool_fee_percentage, time_hours = args\n",
    "\n",
    "    # Calculate profit\n",
    "    btc_earned = (hashrate / (2**32)) * mining_reward * time_hours  # Simplified model\n",
    "    electricity_cost = (energy_consumption / 1000) * energy_cost * time_hours  # Energy consumption in kWh\n",
    "    pool_fee = btc_earned * bitcoin_price * (pool_fee_percentage / 100)\n",
    "    \n",
    "    profit = btc_earned * bitcoin_price - electricity_cost - pool_fee\n",
    "    # We will minimize the negative profit to maximize profit\n",
    "    return -profit\n",
    "\n",
    "# Function for obtaining Bitcoin price\n",
    "import requests\n",
    "\n",
    "def get_bitcoin_price():\n",
    "    url = \"https://api.coingecko.com/api/v3/simple/price?ids=bitcoin&vs_currencies=usd\"\n",
    "    response = requests.get(url)\n",
    "    data = response.json()\n",
    "    return data['bitcoin']['usd']\n",
    "\n",
    "# Getting Current Mining Reward\n",
    "def get_current_block_reward():\n",
    "    # Fetch the latest block height\n",
    "    url = \"https://api.blockchair.com/bitcoin/blocks?limit=1\"\n",
    "    response = requests.get(url)\n",
    "    data = response.json()\n",
    "    if 'data' not in data:\n",
    "        return \"Error fetching block data.\"\n",
    "    \n",
    "    latest_block_height = data['data'][0]['id']\n",
    "    \n",
    "    # Initial block reward\n",
    "    initial_reward = 50.0\n",
    "    \n",
    "    # Number of blocks between halvings\n",
    "    halving_interval = 210_000\n",
    "    #Calculate the number of halvings that have occurred\n",
    "    num_halvings = int(latest_block_height / halving_interval)\n",
    "    \n",
    "    # Calculate the current block reward\n",
    "    current_reward = initial_reward / (2 ** num_halvings)\n",
    "    \n",
    "    return current_reward"
   ]
  },
  {
   "cell_type": "code",
   "execution_count": 34,
   "id": "c62a8d1b",
   "metadata": {},
   "outputs": [],
   "source": [
    "# Initial estimates\n",
    "initial_hashrate = 10e6  # 10 MH/s\n",
    "initial_energy_consumption = 1000  # 1000W or 1kW\n",
    "\n",
    "# Parameters\n",
    "mining_reward = get_current_block_reward()  # BTC (for illustration purposes)\n",
    "bitcoin_price = get_bitcoin_price() # USD\n",
    "\n",
    "### Automate energy costs\n",
    "energy_cost = 0.12  # Cost per kWh in USD\n",
    "### Automate Pool fee percentage\n",
    "pool_fee_percentage = 2.0  # 2% fee\n",
    "### What is time here?\n",
    "time_hours = 24  # 24 hours\n",
    "\n",
    "# Boundaries for the optimization (for safety purposes)\n",
    "### This needs to change from being hardcoded. How can we make this more fluid?\n",
    "hashrate_bounds = (1e6, 1e12)  # between 1MH/s and 1TH/s\n",
    "energy_consumption_bounds = (10, 5000)  # between 10W and 5kW\n",
    "\n"
   ]
  },
  {
   "cell_type": "code",
   "execution_count": 38,
   "id": "e1abc8d3",
   "metadata": {},
   "outputs": [
    {
     "name": "stdout",
     "output_type": "stream",
     "text": [
      "\n",
      "Inputs\n",
      "Bitcoin Price: $26276\n",
      "Current Mining Reward: 6.25 BTC\n",
      "\n",
      "\n"
     ]
    }
   ],
   "source": [
    "input_parameters = f'''\n",
    "Inputs\n",
    "Bitcoin Price: ${bitcoin_price}\n",
    "Current Mining Reward: {mining_reward} BTC\n",
    "\n",
    "'''\n",
    "print(input_parameters)"
   ]
  },
  {
   "cell_type": "code",
   "execution_count": 3,
   "id": "12b33c20",
   "metadata": {},
   "outputs": [
    {
     "data": {
      "text/plain": [
       "(10000000.001953125, 999.9970896192631, 17110.172320283706)"
      ]
     },
     "execution_count": 3,
     "metadata": {},
     "output_type": "execute_result"
    }
   ],
   "source": [
    "# Optimization\n",
    "result = minimize(bitcoin_mining_profit, \n",
    "                 [initial_hashrate, initial_energy_consumption], \n",
    "                 args=(mining_reward, bitcoin_price, energy_cost, pool_fee_percentage, time_hours),\n",
    "                 bounds=[hashrate_bounds, energy_consumption_bounds])\n",
    "\n",
    "optimal_hashrate, optimal_energy_consumption = result.x\n",
    "max_profit = -result.fun\n",
    "\n",
    "optimal_hashrate, optimal_energy_consumption, max_profit"
   ]
  },
  {
   "cell_type": "code",
   "execution_count": 10,
   "id": "bc326cf2",
   "metadata": {},
   "outputs": [
    {
     "name": "stdout",
     "output_type": "stream",
     "text": [
      " \n",
      "Optimal Values\n",
      "Hashrate: 10000000.001953125 MH/s\n",
      "Energy Consumption: 999.9970896192631 kWh\n",
      "Max Profit: $17110.17\n",
      "\n"
     ]
    }
   ],
   "source": [
    "optimal_output = f''' \n",
    "Optimal Values\n",
    "Hashrate: {optimal_hashrate} MH/s\n",
    "Energy Consumption: {optimal_energy_consumption} kWh\n",
    "Max Profit: ${round(max_profit, 2)}\n",
    "'''\n",
    "print(optimal_output)"
   ]
  }
 ],
 "metadata": {
  "kernelspec": {
   "display_name": "Python 3 (ipykernel)",
   "language": "python",
   "name": "python3"
  },
  "language_info": {
   "codemirror_mode": {
    "name": "ipython",
    "version": 3
   },
   "file_extension": ".py",
   "mimetype": "text/x-python",
   "name": "python",
   "nbconvert_exporter": "python",
   "pygments_lexer": "ipython3",
   "version": "3.9.13"
  }
 },
 "nbformat": 4,
 "nbformat_minor": 5
}
